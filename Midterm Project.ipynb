{
 "cells": [
  {
   "cell_type": "code",
   "execution_count": 32,
   "metadata": {},
   "outputs": [],
   "source": [
    "import numpy as np\n",
    "import pandas as pd\n",
    "import matplotlib.pyplot as plt\n",
    "from matplotlib import style\n",
    "style.use('default')\n",
    "import cvxopt as opt\n",
    "from cvxopt import solvers,matrix\n",
    "import os\n",
    "import statsmodels.api as sm"
   ]
  },
  {
   "cell_type": "markdown",
   "metadata": {},
   "source": [
    "### Question 1: 1. Read all daily price files"
   ]
  },
  {
   "cell_type": "code",
   "execution_count": 2,
   "metadata": {
    "collapsed": true
   },
   "outputs": [],
   "source": [
    "# read file names in folder 'data'\n",
    "files = os.listdir('data/data/')\n",
    "\n",
    " # Extract Adjusted Closing Prices\n",
    "stocks = []\n",
    "for i in files:\n",
    "    file = str('data/data/'+str(i))\n",
    "    stock = pd.read_csv(file, sep=' ', header =None)\n",
    "    stock.set_index(0, inplace=True)\n",
    "    stocks.append(stock[6]) "
   ]
  },
  {
   "cell_type": "markdown",
   "metadata": {},
   "source": [
    "### 2. Create a price matrix P by aligning the data’s dates and placing the adjusted closing prices side-by-side in columns"
   ]
  },
  {
   "cell_type": "code",
   "execution_count": 3,
   "metadata": {},
   "outputs": [
    {
     "data": {
      "text/html": [
       "<div>\n",
       "<style>\n",
       "    .dataframe thead tr:only-child th {\n",
       "        text-align: right;\n",
       "    }\n",
       "\n",
       "    .dataframe thead th {\n",
       "        text-align: left;\n",
       "    }\n",
       "\n",
       "    .dataframe tbody tr th {\n",
       "        vertical-align: top;\n",
       "    }\n",
       "</style>\n",
       "<table border=\"1\" class=\"dataframe\">\n",
       "  <thead>\n",
       "    <tr style=\"text-align: right;\">\n",
       "      <th></th>\n",
       "      <th>AA</th>\n",
       "      <th>AXP</th>\n",
       "      <th>BA</th>\n",
       "      <th>BAC</th>\n",
       "      <th>CAT</th>\n",
       "      <th>CSCO</th>\n",
       "      <th>CVX</th>\n",
       "      <th>DD</th>\n",
       "      <th>DIS</th>\n",
       "      <th>GE</th>\n",
       "      <th>...</th>\n",
       "      <th>MSFT</th>\n",
       "      <th>PFE</th>\n",
       "      <th>PG</th>\n",
       "      <th>T</th>\n",
       "      <th>TRV</th>\n",
       "      <th>UNH</th>\n",
       "      <th>UTX</th>\n",
       "      <th>VZ</th>\n",
       "      <th>WMT</th>\n",
       "      <th>XOM</th>\n",
       "    </tr>\n",
       "    <tr>\n",
       "      <th>Date</th>\n",
       "      <th></th>\n",
       "      <th></th>\n",
       "      <th></th>\n",
       "      <th></th>\n",
       "      <th></th>\n",
       "      <th></th>\n",
       "      <th></th>\n",
       "      <th></th>\n",
       "      <th></th>\n",
       "      <th></th>\n",
       "      <th></th>\n",
       "      <th></th>\n",
       "      <th></th>\n",
       "      <th></th>\n",
       "      <th></th>\n",
       "      <th></th>\n",
       "      <th></th>\n",
       "      <th></th>\n",
       "      <th></th>\n",
       "      <th></th>\n",
       "      <th></th>\n",
       "    </tr>\n",
       "  </thead>\n",
       "  <tbody>\n",
       "    <tr>\n",
       "      <th>20130102</th>\n",
       "      <td>8.731049</td>\n",
       "      <td>57.020516</td>\n",
       "      <td>72.458451</td>\n",
       "      <td>11.796938</td>\n",
       "      <td>86.985691</td>\n",
       "      <td>18.854991</td>\n",
       "      <td>99.922199</td>\n",
       "      <td>40.236449</td>\n",
       "      <td>49.555106</td>\n",
       "      <td>19.443705</td>\n",
       "      <td>...</td>\n",
       "      <td>25.573933</td>\n",
       "      <td>23.627197</td>\n",
       "      <td>63.736154</td>\n",
       "      <td>30.290674</td>\n",
       "      <td>68.337788</td>\n",
       "      <td>52.191287</td>\n",
       "      <td>79.048064</td>\n",
       "      <td>39.192603</td>\n",
       "      <td>64.682086</td>\n",
       "      <td>81.894545</td>\n",
       "    </tr>\n",
       "    <tr>\n",
       "      <th>20130103</th>\n",
       "      <td>8.808744</td>\n",
       "      <td>57.263157</td>\n",
       "      <td>72.834518</td>\n",
       "      <td>11.728294</td>\n",
       "      <td>87.822988</td>\n",
       "      <td>18.956960</td>\n",
       "      <td>99.496766</td>\n",
       "      <td>39.727685</td>\n",
       "      <td>49.661781</td>\n",
       "      <td>19.225032</td>\n",
       "      <td>...</td>\n",
       "      <td>25.231341</td>\n",
       "      <td>23.572484</td>\n",
       "      <td>63.332003</td>\n",
       "      <td>30.307983</td>\n",
       "      <td>68.863028</td>\n",
       "      <td>49.751101</td>\n",
       "      <td>79.339787</td>\n",
       "      <td>39.006689</td>\n",
       "      <td>64.271055</td>\n",
       "      <td>81.746841</td>\n",
       "    </tr>\n",
       "    <tr>\n",
       "      <th>20130104</th>\n",
       "      <td>8.993272</td>\n",
       "      <td>57.855200</td>\n",
       "      <td>73.041355</td>\n",
       "      <td>11.875388</td>\n",
       "      <td>88.306756</td>\n",
       "      <td>18.984769</td>\n",
       "      <td>100.021768</td>\n",
       "      <td>40.113643</td>\n",
       "      <td>50.612153</td>\n",
       "      <td>19.316146</td>\n",
       "      <td>...</td>\n",
       "      <td>24.759122</td>\n",
       "      <td>23.672791</td>\n",
       "      <td>63.460595</td>\n",
       "      <td>30.489726</td>\n",
       "      <td>69.463305</td>\n",
       "      <td>49.846793</td>\n",
       "      <td>79.970295</td>\n",
       "      <td>39.219161</td>\n",
       "      <td>64.513935</td>\n",
       "      <td>82.125338</td>\n",
       "    </tr>\n",
       "    <tr>\n",
       "      <th>20130107</th>\n",
       "      <td>8.837881</td>\n",
       "      <td>58.097841</td>\n",
       "      <td>71.574694</td>\n",
       "      <td>11.855776</td>\n",
       "      <td>88.576552</td>\n",
       "      <td>18.808642</td>\n",
       "      <td>99.342888</td>\n",
       "      <td>40.175048</td>\n",
       "      <td>49.429039</td>\n",
       "      <td>19.252365</td>\n",
       "      <td>...</td>\n",
       "      <td>24.712826</td>\n",
       "      <td>23.691030</td>\n",
       "      <td>63.028896</td>\n",
       "      <td>30.628198</td>\n",
       "      <td>68.525372</td>\n",
       "      <td>49.846793</td>\n",
       "      <td>79.584462</td>\n",
       "      <td>39.564431</td>\n",
       "      <td>63.897385</td>\n",
       "      <td>81.174472</td>\n",
       "    </tr>\n",
       "    <tr>\n",
       "      <th>20130108</th>\n",
       "      <td>8.837881</td>\n",
       "      <td>58.427832</td>\n",
       "      <td>69.694366</td>\n",
       "      <td>11.747906</td>\n",
       "      <td>87.450855</td>\n",
       "      <td>18.827180</td>\n",
       "      <td>98.899354</td>\n",
       "      <td>40.394343</td>\n",
       "      <td>49.225385</td>\n",
       "      <td>19.042804</td>\n",
       "      <td>...</td>\n",
       "      <td>24.583196</td>\n",
       "      <td>23.727506</td>\n",
       "      <td>62.927858</td>\n",
       "      <td>30.111005</td>\n",
       "      <td>68.647308</td>\n",
       "      <td>49.186509</td>\n",
       "      <td>78.624595</td>\n",
       "      <td>38.601629</td>\n",
       "      <td>64.074873</td>\n",
       "      <td>81.682219</td>\n",
       "    </tr>\n",
       "  </tbody>\n",
       "</table>\n",
       "<p>5 rows × 30 columns</p>\n",
       "</div>"
      ],
      "text/plain": [
       "                AA        AXP         BA        BAC        CAT       CSCO  \\\n",
       "Date                                                                        \n",
       "20130102  8.731049  57.020516  72.458451  11.796938  86.985691  18.854991   \n",
       "20130103  8.808744  57.263157  72.834518  11.728294  87.822988  18.956960   \n",
       "20130104  8.993272  57.855200  73.041355  11.875388  88.306756  18.984769   \n",
       "20130107  8.837881  58.097841  71.574694  11.855776  88.576552  18.808642   \n",
       "20130108  8.837881  58.427832  69.694366  11.747906  87.450855  18.827180   \n",
       "\n",
       "                 CVX         DD        DIS         GE    ...           MSFT  \\\n",
       "Date                                                     ...                  \n",
       "20130102   99.922199  40.236449  49.555106  19.443705    ...      25.573933   \n",
       "20130103   99.496766  39.727685  49.661781  19.225032    ...      25.231341   \n",
       "20130104  100.021768  40.113643  50.612153  19.316146    ...      24.759122   \n",
       "20130107   99.342888  40.175048  49.429039  19.252365    ...      24.712826   \n",
       "20130108   98.899354  40.394343  49.225385  19.042804    ...      24.583196   \n",
       "\n",
       "                PFE         PG          T        TRV        UNH        UTX  \\\n",
       "Date                                                                         \n",
       "20130102  23.627197  63.736154  30.290674  68.337788  52.191287  79.048064   \n",
       "20130103  23.572484  63.332003  30.307983  68.863028  49.751101  79.339787   \n",
       "20130104  23.672791  63.460595  30.489726  69.463305  49.846793  79.970295   \n",
       "20130107  23.691030  63.028896  30.628198  68.525372  49.846793  79.584462   \n",
       "20130108  23.727506  62.927858  30.111005  68.647308  49.186509  78.624595   \n",
       "\n",
       "                 VZ        WMT        XOM  \n",
       "Date                                       \n",
       "20130102  39.192603  64.682086  81.894545  \n",
       "20130103  39.006689  64.271055  81.746841  \n",
       "20130104  39.219161  64.513935  82.125338  \n",
       "20130107  39.564431  63.897385  81.174472  \n",
       "20130108  38.601629  64.074873  81.682219  \n",
       "\n",
       "[5 rows x 30 columns]"
      ]
     },
     "execution_count": 3,
     "metadata": {},
     "output_type": "execute_result"
    }
   ],
   "source": [
    "# Extract list of stocks to be used as header in Stock Price Dataframe\n",
    "columns = []    \n",
    "for i in range(len(files)):\n",
    "    col = os.path.splitext(files[i])[0]\n",
    "    columns.append(col)                  \n",
    "\n",
    "# Dataframe containing the adjusted closing stock prices   \n",
    "P = pd.DataFrame(stocks).T \n",
    "P.columns = columns\n",
    "\n",
    "# Setting Date as Index\n",
    "P.index.names = ['Date']\n",
    "P.head()"
   ]
  },
  {
   "cell_type": "markdown",
   "metadata": {},
   "source": [
    "### 3. From the P matrix, create a matrix of simple (not logarithmic) daily returns R"
   ]
  },
  {
   "cell_type": "code",
   "execution_count": 4,
   "metadata": {},
   "outputs": [
    {
     "data": {
      "text/html": [
       "<div>\n",
       "<style>\n",
       "    .dataframe thead tr:only-child th {\n",
       "        text-align: right;\n",
       "    }\n",
       "\n",
       "    .dataframe thead th {\n",
       "        text-align: left;\n",
       "    }\n",
       "\n",
       "    .dataframe tbody tr th {\n",
       "        vertical-align: top;\n",
       "    }\n",
       "</style>\n",
       "<table border=\"1\" class=\"dataframe\">\n",
       "  <thead>\n",
       "    <tr style=\"text-align: right;\">\n",
       "      <th></th>\n",
       "      <th>AA</th>\n",
       "      <th>AXP</th>\n",
       "      <th>BA</th>\n",
       "      <th>BAC</th>\n",
       "      <th>CAT</th>\n",
       "      <th>CSCO</th>\n",
       "      <th>CVX</th>\n",
       "      <th>DD</th>\n",
       "      <th>DIS</th>\n",
       "      <th>GE</th>\n",
       "      <th>...</th>\n",
       "      <th>MSFT</th>\n",
       "      <th>PFE</th>\n",
       "      <th>PG</th>\n",
       "      <th>T</th>\n",
       "      <th>TRV</th>\n",
       "      <th>UNH</th>\n",
       "      <th>UTX</th>\n",
       "      <th>VZ</th>\n",
       "      <th>WMT</th>\n",
       "      <th>XOM</th>\n",
       "    </tr>\n",
       "    <tr>\n",
       "      <th>Date</th>\n",
       "      <th></th>\n",
       "      <th></th>\n",
       "      <th></th>\n",
       "      <th></th>\n",
       "      <th></th>\n",
       "      <th></th>\n",
       "      <th></th>\n",
       "      <th></th>\n",
       "      <th></th>\n",
       "      <th></th>\n",
       "      <th></th>\n",
       "      <th></th>\n",
       "      <th></th>\n",
       "      <th></th>\n",
       "      <th></th>\n",
       "      <th></th>\n",
       "      <th></th>\n",
       "      <th></th>\n",
       "      <th></th>\n",
       "      <th></th>\n",
       "      <th></th>\n",
       "    </tr>\n",
       "  </thead>\n",
       "  <tbody>\n",
       "    <tr>\n",
       "      <th>20130103</th>\n",
       "      <td>0.008899</td>\n",
       "      <td>0.004255</td>\n",
       "      <td>0.005190</td>\n",
       "      <td>-0.005819</td>\n",
       "      <td>0.009626</td>\n",
       "      <td>0.005408</td>\n",
       "      <td>-0.004258</td>\n",
       "      <td>-0.012644</td>\n",
       "      <td>0.002153</td>\n",
       "      <td>-0.011246</td>\n",
       "      <td>...</td>\n",
       "      <td>-0.013396</td>\n",
       "      <td>-0.002316</td>\n",
       "      <td>-0.006341</td>\n",
       "      <td>0.000571</td>\n",
       "      <td>0.007686</td>\n",
       "      <td>-0.046755</td>\n",
       "      <td>0.003690</td>\n",
       "      <td>-0.004744</td>\n",
       "      <td>-0.006355</td>\n",
       "      <td>-0.001804</td>\n",
       "    </tr>\n",
       "    <tr>\n",
       "      <th>20130104</th>\n",
       "      <td>0.020948</td>\n",
       "      <td>0.010339</td>\n",
       "      <td>0.002840</td>\n",
       "      <td>0.012542</td>\n",
       "      <td>0.005508</td>\n",
       "      <td>0.001467</td>\n",
       "      <td>0.005277</td>\n",
       "      <td>0.009715</td>\n",
       "      <td>0.019137</td>\n",
       "      <td>0.004739</td>\n",
       "      <td>...</td>\n",
       "      <td>-0.018716</td>\n",
       "      <td>0.004255</td>\n",
       "      <td>0.002030</td>\n",
       "      <td>0.005997</td>\n",
       "      <td>0.008717</td>\n",
       "      <td>0.001923</td>\n",
       "      <td>0.007947</td>\n",
       "      <td>0.005447</td>\n",
       "      <td>0.003779</td>\n",
       "      <td>0.004630</td>\n",
       "    </tr>\n",
       "    <tr>\n",
       "      <th>20130107</th>\n",
       "      <td>-0.017279</td>\n",
       "      <td>0.004194</td>\n",
       "      <td>-0.020080</td>\n",
       "      <td>-0.001651</td>\n",
       "      <td>0.003055</td>\n",
       "      <td>-0.009277</td>\n",
       "      <td>-0.006787</td>\n",
       "      <td>0.001531</td>\n",
       "      <td>-0.023376</td>\n",
       "      <td>-0.003302</td>\n",
       "      <td>...</td>\n",
       "      <td>-0.001870</td>\n",
       "      <td>0.000770</td>\n",
       "      <td>-0.006803</td>\n",
       "      <td>0.004542</td>\n",
       "      <td>-0.013503</td>\n",
       "      <td>0.000000</td>\n",
       "      <td>-0.004825</td>\n",
       "      <td>0.008804</td>\n",
       "      <td>-0.009557</td>\n",
       "      <td>-0.011578</td>\n",
       "    </tr>\n",
       "    <tr>\n",
       "      <th>20130108</th>\n",
       "      <td>0.000000</td>\n",
       "      <td>0.005680</td>\n",
       "      <td>-0.026271</td>\n",
       "      <td>-0.009099</td>\n",
       "      <td>-0.012709</td>\n",
       "      <td>0.000986</td>\n",
       "      <td>-0.004465</td>\n",
       "      <td>0.005458</td>\n",
       "      <td>-0.004120</td>\n",
       "      <td>-0.010885</td>\n",
       "      <td>...</td>\n",
       "      <td>-0.005245</td>\n",
       "      <td>0.001540</td>\n",
       "      <td>-0.001603</td>\n",
       "      <td>-0.016886</td>\n",
       "      <td>0.001779</td>\n",
       "      <td>-0.013246</td>\n",
       "      <td>-0.012061</td>\n",
       "      <td>-0.024335</td>\n",
       "      <td>0.002778</td>\n",
       "      <td>0.006255</td>\n",
       "    </tr>\n",
       "    <tr>\n",
       "      <th>20130109</th>\n",
       "      <td>-0.002198</td>\n",
       "      <td>0.000997</td>\n",
       "      <td>0.035478</td>\n",
       "      <td>-0.045910</td>\n",
       "      <td>0.004681</td>\n",
       "      <td>-0.000492</td>\n",
       "      <td>0.002563</td>\n",
       "      <td>0.008469</td>\n",
       "      <td>0.000394</td>\n",
       "      <td>0.002392</td>\n",
       "      <td>...</td>\n",
       "      <td>0.005650</td>\n",
       "      <td>0.017294</td>\n",
       "      <td>0.005401</td>\n",
       "      <td>-0.003202</td>\n",
       "      <td>0.010247</td>\n",
       "      <td>0.018872</td>\n",
       "      <td>0.011969</td>\n",
       "      <td>-0.002320</td>\n",
       "      <td>-0.000292</td>\n",
       "      <td>-0.003843</td>\n",
       "    </tr>\n",
       "  </tbody>\n",
       "</table>\n",
       "<p>5 rows × 30 columns</p>\n",
       "</div>"
      ],
      "text/plain": [
       "                AA       AXP        BA       BAC       CAT      CSCO  \\\n",
       "Date                                                                   \n",
       "20130103  0.008899  0.004255  0.005190 -0.005819  0.009626  0.005408   \n",
       "20130104  0.020948  0.010339  0.002840  0.012542  0.005508  0.001467   \n",
       "20130107 -0.017279  0.004194 -0.020080 -0.001651  0.003055 -0.009277   \n",
       "20130108  0.000000  0.005680 -0.026271 -0.009099 -0.012709  0.000986   \n",
       "20130109 -0.002198  0.000997  0.035478 -0.045910  0.004681 -0.000492   \n",
       "\n",
       "               CVX        DD       DIS        GE    ...         MSFT  \\\n",
       "Date                                                ...                \n",
       "20130103 -0.004258 -0.012644  0.002153 -0.011246    ...    -0.013396   \n",
       "20130104  0.005277  0.009715  0.019137  0.004739    ...    -0.018716   \n",
       "20130107 -0.006787  0.001531 -0.023376 -0.003302    ...    -0.001870   \n",
       "20130108 -0.004465  0.005458 -0.004120 -0.010885    ...    -0.005245   \n",
       "20130109  0.002563  0.008469  0.000394  0.002392    ...     0.005650   \n",
       "\n",
       "               PFE        PG         T       TRV       UNH       UTX  \\\n",
       "Date                                                                   \n",
       "20130103 -0.002316 -0.006341  0.000571  0.007686 -0.046755  0.003690   \n",
       "20130104  0.004255  0.002030  0.005997  0.008717  0.001923  0.007947   \n",
       "20130107  0.000770 -0.006803  0.004542 -0.013503  0.000000 -0.004825   \n",
       "20130108  0.001540 -0.001603 -0.016886  0.001779 -0.013246 -0.012061   \n",
       "20130109  0.017294  0.005401 -0.003202  0.010247  0.018872  0.011969   \n",
       "\n",
       "                VZ       WMT       XOM  \n",
       "Date                                    \n",
       "20130103 -0.004744 -0.006355 -0.001804  \n",
       "20130104  0.005447  0.003779  0.004630  \n",
       "20130107  0.008804 -0.009557 -0.011578  \n",
       "20130108 -0.024335  0.002778  0.006255  \n",
       "20130109 -0.002320 -0.000292 -0.003843  \n",
       "\n",
       "[5 rows x 30 columns]"
      ]
     },
     "execution_count": 4,
     "metadata": {},
     "output_type": "execute_result"
    }
   ],
   "source": [
    "# Daily Return Calculation\n",
    "R = P/P.shift(1) - 1  \n",
    "R.dropna(inplace=True)\n",
    "R.head()"
   ]
  },
  {
   "cell_type": "markdown",
   "metadata": {},
   "source": [
    "### 4. Compute the vector of average daily returns mu for the companies"
   ]
  },
  {
   "cell_type": "code",
   "execution_count": 5,
   "metadata": {},
   "outputs": [
    {
     "data": {
      "text/plain": [
       "AA      0.000225\n",
       "AXP     0.000473\n",
       "BA      0.000945\n",
       "BAC     0.000540\n",
       "CAT    -0.000340\n",
       "CSCO    0.000563\n",
       "CVX    -0.000295\n",
       "DD      0.000339\n",
       "DIS     0.001099\n",
       "GE      0.000425\n",
       "HD      0.001033\n",
       "HPQ     0.001010\n",
       "IBM    -0.000270\n",
       "INTC    0.000669\n",
       "JNJ     0.000521\n",
       "JPM     0.000637\n",
       "KO      0.000240\n",
       "MCD     0.000290\n",
       "MMM     0.000705\n",
       "MRK     0.000468\n",
       "MSFT    0.000901\n",
       "PFE     0.000491\n",
       "PG      0.000233\n",
       "T       0.000139\n",
       "TRV     0.000595\n",
       "UNH     0.001255\n",
       "UTX     0.000200\n",
       "VZ      0.000226\n",
       "WMT     0.000022\n",
       "XOM    -0.000107\n",
       "dtype: float64"
      ]
     },
     "execution_count": 5,
     "metadata": {},
     "output_type": "execute_result"
    }
   ],
   "source": [
    "#Mean Daily Returns\n",
    "mu = R.mean()  \n",
    "mu"
   ]
  },
  {
   "cell_type": "markdown",
   "metadata": {},
   "source": [
    "### 5. Compute the covariance matrix Q from the return matrix"
   ]
  },
  {
   "cell_type": "code",
   "execution_count": 6,
   "metadata": {},
   "outputs": [
    {
     "data": {
      "text/html": [
       "<div>\n",
       "<style>\n",
       "    .dataframe thead tr:only-child th {\n",
       "        text-align: right;\n",
       "    }\n",
       "\n",
       "    .dataframe thead th {\n",
       "        text-align: left;\n",
       "    }\n",
       "\n",
       "    .dataframe tbody tr th {\n",
       "        vertical-align: top;\n",
       "    }\n",
       "</style>\n",
       "<table border=\"1\" class=\"dataframe\">\n",
       "  <thead>\n",
       "    <tr style=\"text-align: right;\">\n",
       "      <th></th>\n",
       "      <th>AA</th>\n",
       "      <th>AXP</th>\n",
       "      <th>BA</th>\n",
       "      <th>BAC</th>\n",
       "      <th>CAT</th>\n",
       "    </tr>\n",
       "  </thead>\n",
       "  <tbody>\n",
       "    <tr>\n",
       "      <th>AA</th>\n",
       "      <td>0.000342</td>\n",
       "      <td>0.000079</td>\n",
       "      <td>0.000080</td>\n",
       "      <td>0.000097</td>\n",
       "      <td>0.000104</td>\n",
       "    </tr>\n",
       "    <tr>\n",
       "      <th>AXP</th>\n",
       "      <td>0.000079</td>\n",
       "      <td>0.000144</td>\n",
       "      <td>0.000066</td>\n",
       "      <td>0.000088</td>\n",
       "      <td>0.000062</td>\n",
       "    </tr>\n",
       "    <tr>\n",
       "      <th>BA</th>\n",
       "      <td>0.000080</td>\n",
       "      <td>0.000066</td>\n",
       "      <td>0.000169</td>\n",
       "      <td>0.000076</td>\n",
       "      <td>0.000058</td>\n",
       "    </tr>\n",
       "    <tr>\n",
       "      <th>BAC</th>\n",
       "      <td>0.000097</td>\n",
       "      <td>0.000088</td>\n",
       "      <td>0.000076</td>\n",
       "      <td>0.000215</td>\n",
       "      <td>0.000075</td>\n",
       "    </tr>\n",
       "    <tr>\n",
       "      <th>CAT</th>\n",
       "      <td>0.000104</td>\n",
       "      <td>0.000062</td>\n",
       "      <td>0.000058</td>\n",
       "      <td>0.000075</td>\n",
       "      <td>0.000166</td>\n",
       "    </tr>\n",
       "  </tbody>\n",
       "</table>\n",
       "</div>"
      ],
      "text/plain": [
       "           AA       AXP        BA       BAC       CAT\n",
       "AA   0.000342  0.000079  0.000080  0.000097  0.000104\n",
       "AXP  0.000079  0.000144  0.000066  0.000088  0.000062\n",
       "BA   0.000080  0.000066  0.000169  0.000076  0.000058\n",
       "BAC  0.000097  0.000088  0.000076  0.000215  0.000075\n",
       "CAT  0.000104  0.000062  0.000058  0.000075  0.000166"
      ]
     },
     "execution_count": 6,
     "metadata": {},
     "output_type": "execute_result"
    }
   ],
   "source": [
    "# Covariance Matrix of daily returns\n",
    "Q = R.cov() \n",
    "Q.iloc[:5,:5]"
   ]
  },
  {
   "cell_type": "markdown",
   "metadata": {},
   "source": [
    "### 6. Save the return vector mu and covariance matrix Q in the native format for your programming language"
   ]
  },
  {
   "cell_type": "code",
   "execution_count": 7,
   "metadata": {
    "collapsed": true
   },
   "outputs": [],
   "source": [
    "# Saving Data in Native format for future use\n",
    "I = [[mu],[Q]] \n",
    "input_data  = pd.DataFrame(I)\n",
    "input_data.to_pickle('input') "
   ]
  },
  {
   "cell_type": "markdown",
   "metadata": {},
   "source": [
    "### Question 2: Write a function called port that uses standard quadratic programming libraries"
   ]
  },
  {
   "cell_type": "code",
   "execution_count": 8,
   "metadata": {
    "collapsed": true
   },
   "outputs": [],
   "source": [
    "def port(mu, Q, tau):\n",
    "    n = len(mu)\n",
    "    \n",
    "    # minimize utility function 0.5 x.T * Q * x - tau * x.T * mu\n",
    "    P = matrix(Q.values)\n",
    "    q = matrix(-tau *mu)\n",
    "    \n",
    "    # inequality constrains 0<=xi<=0.1\n",
    "    G = np.vstack((-np.eye(n),np.eye(n)))\n",
    "    G = matrix(G)\n",
    "    y = np.array([0,0.1])\n",
    "    h = np.repeat(y,n) \n",
    "    h = matrix(h)\n",
    "    \n",
    "    #equality constrain Summation xi = 1\n",
    "    A = matrix(1.0,(1,n))\n",
    "    b = matrix([1.0])\n",
    "    \n",
    "    solvers.options['show_progress']=False\n",
    "    sol = solvers.qp(P,q,G,h,A,b)\n",
    "    \n",
    "    return np.array(sol['x'])"
   ]
  },
  {
   "cell_type": "markdown",
   "metadata": {},
   "source": [
    "### Question 3: 1. Load the data in the input.pickle"
   ]
  },
  {
   "cell_type": "code",
   "execution_count": 9,
   "metadata": {
    "collapsed": true
   },
   "outputs": [],
   "source": [
    "# Load data from Native files \n",
    "mu_Q = pd.read_pickle('input') \n",
    "mu = mu_Q[0][0]\n",
    "Q = mu_Q[0][1]"
   ]
  },
  {
   "cell_type": "markdown",
   "metadata": {},
   "source": [
    "### 2. Create a sequence TAU containing numbers from zero to 0.5 in steps of 0.001"
   ]
  },
  {
   "cell_type": "code",
   "execution_count": 10,
   "metadata": {
    "collapsed": true
   },
   "outputs": [],
   "source": [
    "# generating array of tau with 500 values \n",
    "tau = np.arange(0,0.5,0.001) "
   ]
  },
  {
   "cell_type": "markdown",
   "metadata": {},
   "source": [
    "### 3. Run through a loop for each value of your TAU sequence to\n",
    "### 4. Find the optimum portfolio with the given mu, Q, and tau selected from TAU"
   ]
  },
  {
   "cell_type": "code",
   "execution_count": 33,
   "metadata": {},
   "outputs": [],
   "source": [
    "weights = []\n",
    "for i in tau:\n",
    "    \n",
    "    #using port function to calculate optimal weights\n",
    "    weight = port(mu, Q , i) \n",
    "    \n",
    "    #List of optimal weights of each stock for different values of Tau\n",
    "    weights.append(weight.T) \n",
    "    \n",
    "    \n",
    "ret = []\n",
    "var = [] \n",
    "for i in range(len(weights)):\n",
    "    mu =mu.reshape(30,1)\n",
    "    #calculation of portfolio returns\n",
    "    re = np.matmul(weights[i],mu)\n",
    "    # List of portfolio returns corresponding to each value of Tau\n",
    "    ret.append(re[0][0])\n",
    "    #calculation of portfolio variance\n",
    "    va = np.matmul(np.matmul(weights[i],Q),weights[i].T) \n",
    "    # List of portfolio variances corresponding to each value of Tau\n",
    "    var.append(va[0][0])          "
   ]
  },
  {
   "cell_type": "markdown",
   "metadata": {},
   "source": [
    "### 5. Compute the optimum portfolio’s expected return and standard deviation of return; and - Store the portfolio return and standard deviation."
   ]
  },
  {
   "cell_type": "code",
   "execution_count": 12,
   "metadata": {},
   "outputs": [
    {
     "data": {
      "text/html": [
       "<div>\n",
       "<style>\n",
       "    .dataframe thead tr:only-child th {\n",
       "        text-align: right;\n",
       "    }\n",
       "\n",
       "    .dataframe thead th {\n",
       "        text-align: left;\n",
       "    }\n",
       "\n",
       "    .dataframe tbody tr th {\n",
       "        vertical-align: top;\n",
       "    }\n",
       "</style>\n",
       "<table border=\"1\" class=\"dataframe\">\n",
       "  <thead>\n",
       "    <tr style=\"text-align: right;\">\n",
       "      <th></th>\n",
       "      <th>Tau</th>\n",
       "      <th>Return</th>\n",
       "      <th>Variance</th>\n",
       "    </tr>\n",
       "  </thead>\n",
       "  <tbody>\n",
       "    <tr>\n",
       "      <th>0</th>\n",
       "      <td>0.000</td>\n",
       "      <td>0.000266</td>\n",
       "      <td>0.000044</td>\n",
       "    </tr>\n",
       "    <tr>\n",
       "      <th>1</th>\n",
       "      <td>0.001</td>\n",
       "      <td>0.000293</td>\n",
       "      <td>0.000044</td>\n",
       "    </tr>\n",
       "    <tr>\n",
       "      <th>2</th>\n",
       "      <td>0.002</td>\n",
       "      <td>0.000324</td>\n",
       "      <td>0.000044</td>\n",
       "    </tr>\n",
       "    <tr>\n",
       "      <th>3</th>\n",
       "      <td>0.003</td>\n",
       "      <td>0.000354</td>\n",
       "      <td>0.000045</td>\n",
       "    </tr>\n",
       "    <tr>\n",
       "      <th>4</th>\n",
       "      <td>0.004</td>\n",
       "      <td>0.000381</td>\n",
       "      <td>0.000045</td>\n",
       "    </tr>\n",
       "  </tbody>\n",
       "</table>\n",
       "</div>"
      ],
      "text/plain": [
       "     Tau    Return  Variance\n",
       "0  0.000  0.000266  0.000044\n",
       "1  0.001  0.000293  0.000044\n",
       "2  0.002  0.000324  0.000044\n",
       "3  0.003  0.000354  0.000045\n",
       "4  0.004  0.000381  0.000045"
      ]
     },
     "execution_count": 12,
     "metadata": {},
     "output_type": "execute_result"
    }
   ],
   "source": [
    "# Data frame conatining portfolio return and variance corresponding \n",
    "# to different values of Tau\n",
    "efficient_frontire = pd.DataFrame({'Tau': tau, 'Return': ret, 'Variance':var}, \n",
    "                                  columns=['Tau','Return','Variance'])\n",
    "efficient_frontire.head()"
   ]
  },
  {
   "cell_type": "markdown",
   "metadata": {},
   "source": [
    "### 6. After completing the loop, plot the efficient frontier."
   ]
  },
  {
   "cell_type": "code",
   "execution_count": 13,
   "metadata": {},
   "outputs": [
    {
     "data": {
      "image/png": "[encoded data removed]",
      "text/plain": [
       "<matplotlib.figure.Figure at 0x19bca65a1d0>"
      ]
     },
     "metadata": {},
     "output_type": "display_data"
    }
   ],
   "source": [
    "#Plot of efficient frontier using 500 portfolios \n",
    "plt.plot(efficient_frontire['Variance']*252,efficient_frontire['Return']*252)\n",
    "plt.show()"
   ]
  },
  {
   "cell_type": "markdown",
   "metadata": {},
   "source": [
    "### Question 4: 1. Read in this Dow-Jones data"
   ]
  },
  {
   "cell_type": "code",
   "execution_count": 14,
   "metadata": {
    "collapsed": true
   },
   "outputs": [],
   "source": [
    "#load data\n",
    "df = pd.read_csv('Midtermdata/Midtermdata/data.tsv',sep='\\t')\n",
    "df.index.names = ['Date'] "
   ]
  },
  {
   "cell_type": "markdown",
   "metadata": {},
   "source": [
    "### 2. Convert the matrix of daily prices to daily simple returns (not logarithmic returns)"
   ]
  },
  {
   "cell_type": "code",
   "execution_count": 15,
   "metadata": {
    "collapsed": true
   },
   "outputs": [],
   "source": [
    "#calculate daily return\n",
    "\n",
    "Rts = df/df.shift(1) - 1 \n",
    "Rts.dropna(inplace=True)"
   ]
  },
  {
   "cell_type": "markdown",
   "metadata": {},
   "source": [
    "### 3. Annualize the returns by multiplying them by 252 (the typical number of trading days in a year)"
   ]
  },
  {
   "cell_type": "code",
   "execution_count": 16,
   "metadata": {},
   "outputs": [
    {
     "data": {
      "text/plain": [
       "AAPL    0.123361\n",
       "AXP    -0.139215\n",
       "BA      0.225636\n",
       "CAT    -0.272829\n",
       "CSCO    0.241014\n",
       "CVX    -0.203404\n",
       "DD      0.004449\n",
       "DIS     0.281967\n",
       "GE      0.203768\n",
       "GS      0.039268\n",
       "HD      0.302681\n",
       "IBM    -0.078815\n",
       "INTC    0.080830\n",
       "JNJ    -0.013180\n",
       "JPM     0.125468\n",
       "KO      0.082271\n",
       "MCD     0.247729\n",
       "MMM     0.076478\n",
       "MRK    -0.005602\n",
       "MSFT    0.219813\n",
       "NKE     0.394680\n",
       "PFE     0.199745\n",
       "PG     -0.067330\n",
       "TRV     0.164543\n",
       "UNH     0.273932\n",
       "UTX    -0.012582\n",
       "V       0.415225\n",
       "VZ     -0.012023\n",
       "WMT    -0.231585\n",
       "XOM    -0.097806\n",
       "dtype: float64"
      ]
     },
     "execution_count": 16,
     "metadata": {},
     "output_type": "execute_result"
    }
   ],
   "source": [
    "# Annual Return\n",
    "Rts_annual = Rts.mean()*252  \n",
    "\n",
    "# Annual Return of all stocks except DJ Index\n",
    "Rts_annual = Rts_annual[1:] \n",
    "Rts_annual"
   ]
  },
  {
   "cell_type": "markdown",
   "metadata": {},
   "source": [
    "### 4. Move the index column out of the matrix and into a separate vector"
   ]
  },
  {
   "cell_type": "code",
   "execution_count": 17,
   "metadata": {},
   "outputs": [
    {
     "data": {
      "text/plain": [
       "Date\n",
       "20141030    0.013026\n",
       "20141031    0.011346\n",
       "20141103   -0.001396\n",
       "20141104    0.001013\n",
       "20141105    0.005792\n",
       "Name: ^DJI, dtype: float64"
      ]
     },
     "execution_count": 17,
     "metadata": {},
     "output_type": "execute_result"
    }
   ],
   "source": [
    "# Seperating Index returns from Data frame\n",
    "Rts_stocks = Rts.drop('^DJI', axis =1) \n",
    "Rts_index = Rts['^DJI']\n",
    "Rts_index.head()"
   ]
  },
  {
   "cell_type": "markdown",
   "metadata": {},
   "source": [
    "### 5. Compute a covariance matrix Qts based on the time-series of returns"
   ]
  },
  {
   "cell_type": "code",
   "execution_count": 18,
   "metadata": {
    "collapsed": true
   },
   "outputs": [],
   "source": [
    "# Covariance Matrix of Stocls based on daily stock returns\n",
    "Qts = Rts_stocks.cov()*252 "
   ]
  },
  {
   "cell_type": "markdown",
   "metadata": {},
   "source": [
    "### 6. Print out the first five rows and five columns of the covariance matrix"
   ]
  },
  {
   "cell_type": "code",
   "execution_count": 19,
   "metadata": {},
   "outputs": [
    {
     "data": {
      "text/html": [
       "<div>\n",
       "<style>\n",
       "    .dataframe thead tr:only-child th {\n",
       "        text-align: right;\n",
       "    }\n",
       "\n",
       "    .dataframe thead th {\n",
       "        text-align: left;\n",
       "    }\n",
       "\n",
       "    .dataframe tbody tr th {\n",
       "        vertical-align: top;\n",
       "    }\n",
       "</style>\n",
       "<table border=\"1\" class=\"dataframe\">\n",
       "  <thead>\n",
       "    <tr style=\"text-align: right;\">\n",
       "      <th></th>\n",
       "      <th>AAPL</th>\n",
       "      <th>AXP</th>\n",
       "      <th>BA</th>\n",
       "      <th>CAT</th>\n",
       "      <th>CSCO</th>\n",
       "    </tr>\n",
       "  </thead>\n",
       "  <tbody>\n",
       "    <tr>\n",
       "      <th>AAPL</th>\n",
       "      <td>0.068213</td>\n",
       "      <td>0.020492</td>\n",
       "      <td>0.032211</td>\n",
       "      <td>0.029778</td>\n",
       "      <td>0.030794</td>\n",
       "    </tr>\n",
       "    <tr>\n",
       "      <th>AXP</th>\n",
       "      <td>0.020492</td>\n",
       "      <td>0.046829</td>\n",
       "      <td>0.014721</td>\n",
       "      <td>0.019933</td>\n",
       "      <td>0.013747</td>\n",
       "    </tr>\n",
       "    <tr>\n",
       "      <th>BA</th>\n",
       "      <td>0.032211</td>\n",
       "      <td>0.014721</td>\n",
       "      <td>0.045946</td>\n",
       "      <td>0.023461</td>\n",
       "      <td>0.025543</td>\n",
       "    </tr>\n",
       "    <tr>\n",
       "      <th>CAT</th>\n",
       "      <td>0.029778</td>\n",
       "      <td>0.019933</td>\n",
       "      <td>0.023461</td>\n",
       "      <td>0.061852</td>\n",
       "      <td>0.024690</td>\n",
       "    </tr>\n",
       "    <tr>\n",
       "      <th>CSCO</th>\n",
       "      <td>0.030794</td>\n",
       "      <td>0.013747</td>\n",
       "      <td>0.025543</td>\n",
       "      <td>0.024690</td>\n",
       "      <td>0.050005</td>\n",
       "    </tr>\n",
       "  </tbody>\n",
       "</table>\n",
       "</div>"
      ],
      "text/plain": [
       "          AAPL       AXP        BA       CAT      CSCO\n",
       "AAPL  0.068213  0.020492  0.032211  0.029778  0.030794\n",
       "AXP   0.020492  0.046829  0.014721  0.019933  0.013747\n",
       "BA    0.032211  0.014721  0.045946  0.023461  0.025543\n",
       "CAT   0.029778  0.019933  0.023461  0.061852  0.024690\n",
       "CSCO  0.030794  0.013747  0.025543  0.024690  0.050005"
      ]
     },
     "execution_count": 19,
     "metadata": {},
     "output_type": "execute_result"
    }
   ],
   "source": [
    "# Printing  5 x 5 Covariance Matrix\n",
    "Qts.iloc[:5,:5] "
   ]
  },
  {
   "cell_type": "markdown",
   "metadata": {},
   "source": [
    "### Question 5: 1. Use a loop to regress each company’s returns onto the index returns"
   ]
  },
  {
   "cell_type": "code",
   "execution_count": 20,
   "metadata": {
    "collapsed": true
   },
   "outputs": [],
   "source": [
    "name = list(Rts_stocks)\n",
    "\n",
    "#Index Return Vector i.e. Independent variable\n",
    "X = sm.add_constant(Rts_index) \n",
    "intercepts = []\n",
    "slopes = []\n",
    "idosds = [] \n",
    "ret_predt = []\n",
    "\n",
    "for i in name:    \n",
    "    \n",
    "    # Regression of Stock Returns = Intercept + Beta * Index Return \n",
    "    result = sm.OLS(Rts_stocks[i],X).fit() \n",
    "    \n",
    "    # Extracting Intercept\n",
    "    intercept = result.params[0]           \n",
    "    intercepts.append(intercept)\n",
    "    \n",
    "    # Extracting Beta\n",
    "    slope = result.params[1]               \n",
    "    slopes.append(slope)\n",
    "    \n",
    "    # Extracting standard deviation residuals\n",
    "    idosd = result.resid.std()  \n",
    "    \n",
    "    # Extracting mean daily predicted stock return\n",
    "    idosds.append(idosd)\n",
    "    re_pre = result.fittedvalues.mean()    \n",
    "    ret_predt.append(re_pre)\n",
    "    \n",
    "# List of annualized predicted stock returns\n",
    "ret_predt = np.array(ret_predt)*252       "
   ]
  },
  {
   "cell_type": "markdown",
   "metadata": {},
   "source": [
    "### 2. Print a table of intercepts, slopes (\"i), and idiosyncratic standard deviations #Ri for all companies i = 1, ..., 30"
   ]
  },
  {
   "cell_type": "code",
   "execution_count": 21,
   "metadata": {},
   "outputs": [
    {
     "data": {
      "text/html": [
       "<div>\n",
       "<style>\n",
       "    .dataframe thead tr:only-child th {\n",
       "        text-align: right;\n",
       "    }\n",
       "\n",
       "    .dataframe thead th {\n",
       "        text-align: left;\n",
       "    }\n",
       "\n",
       "    .dataframe tbody tr th {\n",
       "        vertical-align: top;\n",
       "    }\n",
       "</style>\n",
       "<table border=\"1\" class=\"dataframe\">\n",
       "  <thead>\n",
       "    <tr style=\"text-align: right;\">\n",
       "      <th></th>\n",
       "      <th>Intercept</th>\n",
       "      <th>Beta</th>\n",
       "      <th>Idosync</th>\n",
       "    </tr>\n",
       "    <tr>\n",
       "      <th>Stocks</th>\n",
       "      <th></th>\n",
       "      <th></th>\n",
       "      <th></th>\n",
       "    </tr>\n",
       "  </thead>\n",
       "  <tbody>\n",
       "    <tr>\n",
       "      <th>AAPL</th>\n",
       "      <td>0.000268</td>\n",
       "      <td>1.138782</td>\n",
       "      <td>0.012475</td>\n",
       "    </tr>\n",
       "    <tr>\n",
       "      <th>AXP</th>\n",
       "      <td>-0.000719</td>\n",
       "      <td>0.853526</td>\n",
       "      <td>0.011009</td>\n",
       "    </tr>\n",
       "    <tr>\n",
       "      <th>BA</th>\n",
       "      <td>0.000697</td>\n",
       "      <td>1.019695</td>\n",
       "      <td>0.009490</td>\n",
       "    </tr>\n",
       "    <tr>\n",
       "      <th>CAT</th>\n",
       "      <td>-0.001290</td>\n",
       "      <td>1.063530</td>\n",
       "      <td>0.012045</td>\n",
       "    </tr>\n",
       "    <tr>\n",
       "      <th>CSCO</th>\n",
       "      <td>0.000750</td>\n",
       "      <td>1.060068</td>\n",
       "      <td>0.009936</td>\n",
       "    </tr>\n",
       "    <tr>\n",
       "      <th>CVX</th>\n",
       "      <td>-0.001031</td>\n",
       "      <td>1.148306</td>\n",
       "      <td>0.012780</td>\n",
       "    </tr>\n",
       "    <tr>\n",
       "      <th>DD</th>\n",
       "      <td>-0.000181</td>\n",
       "      <td>1.020580</td>\n",
       "      <td>0.011313</td>\n",
       "    </tr>\n",
       "    <tr>\n",
       "      <th>DIS</th>\n",
       "      <td>0.000940</td>\n",
       "      <td>0.917125</td>\n",
       "      <td>0.010339</td>\n",
       "    </tr>\n",
       "    <tr>\n",
       "      <th>GE</th>\n",
       "      <td>0.000601</td>\n",
       "      <td>1.065219</td>\n",
       "      <td>0.009995</td>\n",
       "    </tr>\n",
       "    <tr>\n",
       "      <th>GS</th>\n",
       "      <td>-0.000071</td>\n",
       "      <td>1.165276</td>\n",
       "      <td>0.006910</td>\n",
       "    </tr>\n",
       "    <tr>\n",
       "      <th>HD</th>\n",
       "      <td>0.001003</td>\n",
       "      <td>1.015542</td>\n",
       "      <td>0.007833</td>\n",
       "    </tr>\n",
       "    <tr>\n",
       "      <th>IBM</th>\n",
       "      <td>-0.000517</td>\n",
       "      <td>1.050286</td>\n",
       "      <td>0.008685</td>\n",
       "    </tr>\n",
       "    <tr>\n",
       "      <th>INTC</th>\n",
       "      <td>0.000126</td>\n",
       "      <td>0.999549</td>\n",
       "      <td>0.012832</td>\n",
       "    </tr>\n",
       "    <tr>\n",
       "      <th>JNJ</th>\n",
       "      <td>-0.000219</td>\n",
       "      <td>0.854040</td>\n",
       "      <td>0.006560</td>\n",
       "    </tr>\n",
       "    <tr>\n",
       "      <th>JPM</th>\n",
       "      <td>0.000263</td>\n",
       "      <td>1.204165</td>\n",
       "      <td>0.007180</td>\n",
       "    </tr>\n",
       "    <tr>\n",
       "      <th>KO</th>\n",
       "      <td>0.000197</td>\n",
       "      <td>0.662824</td>\n",
       "      <td>0.006618</td>\n",
       "    </tr>\n",
       "    <tr>\n",
       "      <th>MCD</th>\n",
       "      <td>0.000802</td>\n",
       "      <td>0.930011</td>\n",
       "      <td>0.009012</td>\n",
       "    </tr>\n",
       "    <tr>\n",
       "      <th>MMM</th>\n",
       "      <td>0.000116</td>\n",
       "      <td>0.963949</td>\n",
       "      <td>0.006070</td>\n",
       "    </tr>\n",
       "    <tr>\n",
       "      <th>MRK</th>\n",
       "      <td>-0.000208</td>\n",
       "      <td>0.953009</td>\n",
       "      <td>0.010229</td>\n",
       "    </tr>\n",
       "    <tr>\n",
       "      <th>MSFT</th>\n",
       "      <td>0.000630</td>\n",
       "      <td>1.243621</td>\n",
       "      <td>0.013432</td>\n",
       "    </tr>\n",
       "    <tr>\n",
       "      <th>NKE</th>\n",
       "      <td>0.001375</td>\n",
       "      <td>0.982035</td>\n",
       "      <td>0.009613</td>\n",
       "    </tr>\n",
       "    <tr>\n",
       "      <th>PFE</th>\n",
       "      <td>0.000620</td>\n",
       "      <td>0.885675</td>\n",
       "      <td>0.008155</td>\n",
       "    </tr>\n",
       "    <tr>\n",
       "      <th>PG</th>\n",
       "      <td>-0.000416</td>\n",
       "      <td>0.766293</td>\n",
       "      <td>0.006506</td>\n",
       "    </tr>\n",
       "    <tr>\n",
       "      <th>TRV</th>\n",
       "      <td>0.000483</td>\n",
       "      <td>0.873620</td>\n",
       "      <td>0.006558</td>\n",
       "    </tr>\n",
       "    <tr>\n",
       "      <th>UNH</th>\n",
       "      <td>0.000886</td>\n",
       "      <td>1.031037</td>\n",
       "      <td>0.011808</td>\n",
       "    </tr>\n",
       "    <tr>\n",
       "      <th>UTX</th>\n",
       "      <td>-0.000240</td>\n",
       "      <td>0.977089</td>\n",
       "      <td>0.008357</td>\n",
       "    </tr>\n",
       "    <tr>\n",
       "      <th>V</th>\n",
       "      <td>0.001430</td>\n",
       "      <td>1.118423</td>\n",
       "      <td>0.010289</td>\n",
       "    </tr>\n",
       "    <tr>\n",
       "      <th>VZ</th>\n",
       "      <td>-0.000194</td>\n",
       "      <td>0.748745</td>\n",
       "      <td>0.007216</td>\n",
       "    </tr>\n",
       "    <tr>\n",
       "      <th>WMT</th>\n",
       "      <td>-0.001070</td>\n",
       "      <td>0.775067</td>\n",
       "      <td>0.010807</td>\n",
       "    </tr>\n",
       "    <tr>\n",
       "      <th>XOM</th>\n",
       "      <td>-0.000593</td>\n",
       "      <td>1.051269</td>\n",
       "      <td>0.009551</td>\n",
       "    </tr>\n",
       "  </tbody>\n",
       "</table>\n",
       "</div>"
      ],
      "text/plain": [
       "        Intercept      Beta   Idosync\n",
       "Stocks                               \n",
       "AAPL     0.000268  1.138782  0.012475\n",
       "AXP     -0.000719  0.853526  0.011009\n",
       "BA       0.000697  1.019695  0.009490\n",
       "CAT     -0.001290  1.063530  0.012045\n",
       "CSCO     0.000750  1.060068  0.009936\n",
       "CVX     -0.001031  1.148306  0.012780\n",
       "DD      -0.000181  1.020580  0.011313\n",
       "DIS      0.000940  0.917125  0.010339\n",
       "GE       0.000601  1.065219  0.009995\n",
       "GS      -0.000071  1.165276  0.006910\n",
       "HD       0.001003  1.015542  0.007833\n",
       "IBM     -0.000517  1.050286  0.008685\n",
       "INTC     0.000126  0.999549  0.012832\n",
       "JNJ     -0.000219  0.854040  0.006560\n",
       "JPM      0.000263  1.204165  0.007180\n",
       "KO       0.000197  0.662824  0.006618\n",
       "MCD      0.000802  0.930011  0.009012\n",
       "MMM      0.000116  0.963949  0.006070\n",
       "MRK     -0.000208  0.953009  0.010229\n",
       "MSFT     0.000630  1.243621  0.013432\n",
       "NKE      0.001375  0.982035  0.009613\n",
       "PFE      0.000620  0.885675  0.008155\n",
       "PG      -0.000416  0.766293  0.006506\n",
       "TRV      0.000483  0.873620  0.006558\n",
       "UNH      0.000886  1.031037  0.011808\n",
       "UTX     -0.000240  0.977089  0.008357\n",
       "V        0.001430  1.118423  0.010289\n",
       "VZ      -0.000194  0.748745  0.007216\n",
       "WMT     -0.001070  0.775067  0.010807\n",
       "XOM     -0.000593  1.051269  0.009551"
      ]
     },
     "execution_count": 21,
     "metadata": {},
     "output_type": "execute_result"
    }
   ],
   "source": [
    "# Data frame containing Alpha i.e. Intercept, Betas, and Std of residuals\n",
    "regression = pd.DataFrame({'Intercept':intercepts, 'Beta':slopes, 'Idosync': idosds}, \n",
    "                          columns=['Intercept', 'Beta', 'Idosync'])\n",
    "regression['Stocks'] = name\n",
    "regression.set_index('Stocks', inplace=True)\n",
    "regression"
   ]
  },
  {
   "cell_type": "markdown",
   "metadata": {},
   "source": [
    "### 3. Compute and print the variance of the index’s return"
   ]
  },
  {
   "cell_type": "code",
   "execution_count": 22,
   "metadata": {},
   "outputs": [
    {
     "data": {
      "text/plain": [
       "8.873132931214239e-05"
      ]
     },
     "execution_count": 22,
     "metadata": {},
     "output_type": "execute_result"
    }
   ],
   "source": [
    "# Variance of daily index returns\n",
    "var_m = Rts_index.var() \n",
    "var_m "
   ]
  },
  {
   "cell_type": "markdown",
   "metadata": {},
   "source": [
    "### 4. Compute the single-index approximation to the covariance matrix Qsi using your computed var_m, Beta_i and var of error of Ri for all i "
   ]
  },
  {
   "cell_type": "code",
   "execution_count": 23,
   "metadata": {
    "collapsed": true
   },
   "outputs": [],
   "source": [
    "Bet = regression['Beta'].values\n",
    "\n",
    "# Betas = Beta_i * Beta_j\n",
    "Betas = np.matmul(np.matrix(Bet).T,np.matrix(Bet))\n",
    "\n",
    "# Covariance Matrix of ith & jth sectrity = Market Variance * Beta_i * Beta_j \n",
    "Cov_s = var_m*Betas\n",
    "idosync = regression['Idosync']**2\n",
    "diag = np.diag(idosync)\n",
    "\n",
    "#Diagonal of Covariance matrix = Market Var * Beta_i * Beta_j + Variance of residuals\n",
    "Qsi = Cov_s + diag\n",
    "\n",
    "# Annualizing the covariance of the portfolio\n",
    "Qsi = Qsi * 252"
   ]
  },
  {
   "cell_type": "markdown",
   "metadata": {},
   "source": [
    "### 5. Print the first five rows and columns of this covariance matrix."
   ]
  },
  {
   "cell_type": "code",
   "execution_count": 24,
   "metadata": {},
   "outputs": [
    {
     "data": {
      "text/html": [
       "<div>\n",
       "<style>\n",
       "    .dataframe thead tr:only-child th {\n",
       "        text-align: right;\n",
       "    }\n",
       "\n",
       "    .dataframe thead th {\n",
       "        text-align: left;\n",
       "    }\n",
       "\n",
       "    .dataframe tbody tr th {\n",
       "        vertical-align: top;\n",
       "    }\n",
       "</style>\n",
       "<table border=\"1\" class=\"dataframe\">\n",
       "  <thead>\n",
       "    <tr style=\"text-align: right;\">\n",
       "      <th></th>\n",
       "      <th>AAPL</th>\n",
       "      <th>AXP</th>\n",
       "      <th>BA</th>\n",
       "      <th>CAT</th>\n",
       "      <th>CSCO</th>\n",
       "    </tr>\n",
       "    <tr>\n",
       "      <th>Stocks</th>\n",
       "      <th></th>\n",
       "      <th></th>\n",
       "      <th></th>\n",
       "      <th></th>\n",
       "      <th></th>\n",
       "    </tr>\n",
       "  </thead>\n",
       "  <tbody>\n",
       "    <tr>\n",
       "      <th>AAPL</th>\n",
       "      <td>0.068213</td>\n",
       "      <td>0.021734</td>\n",
       "      <td>0.025965</td>\n",
       "      <td>0.027081</td>\n",
       "      <td>0.026993</td>\n",
       "    </tr>\n",
       "    <tr>\n",
       "      <th>AXP</th>\n",
       "      <td>0.021734</td>\n",
       "      <td>0.046829</td>\n",
       "      <td>0.019461</td>\n",
       "      <td>0.020298</td>\n",
       "      <td>0.020231</td>\n",
       "    </tr>\n",
       "    <tr>\n",
       "      <th>BA</th>\n",
       "      <td>0.025965</td>\n",
       "      <td>0.019461</td>\n",
       "      <td>0.045946</td>\n",
       "      <td>0.024249</td>\n",
       "      <td>0.024170</td>\n",
       "    </tr>\n",
       "    <tr>\n",
       "      <th>CAT</th>\n",
       "      <td>0.027081</td>\n",
       "      <td>0.020298</td>\n",
       "      <td>0.024249</td>\n",
       "      <td>0.061852</td>\n",
       "      <td>0.025209</td>\n",
       "    </tr>\n",
       "    <tr>\n",
       "      <th>CSCO</th>\n",
       "      <td>0.026993</td>\n",
       "      <td>0.020231</td>\n",
       "      <td>0.024170</td>\n",
       "      <td>0.025209</td>\n",
       "      <td>0.050005</td>\n",
       "    </tr>\n",
       "  </tbody>\n",
       "</table>\n",
       "</div>"
      ],
      "text/plain": [
       "            AAPL       AXP        BA       CAT      CSCO\n",
       "Stocks                                                  \n",
       "AAPL    0.068213  0.021734  0.025965  0.027081  0.026993\n",
       "AXP     0.021734  0.046829  0.019461  0.020298  0.020231\n",
       "BA      0.025965  0.019461  0.045946  0.024249  0.024170\n",
       "CAT     0.027081  0.020298  0.024249  0.061852  0.025209\n",
       "CSCO    0.026993  0.020231  0.024170  0.025209  0.050005"
      ]
     },
     "execution_count": 24,
     "metadata": {},
     "output_type": "execute_result"
    }
   ],
   "source": [
    "# Converting Qsi in presentable form\n",
    "Qsi = pd.DataFrame(Qsi) \n",
    "Qsi['Stocks'] = name\n",
    "Qsi.set_index('Stocks',inplace=True)\n",
    "Qsi.columns = name\n",
    "Qsi.iloc[:5,:5]"
   ]
  },
  {
   "cell_type": "markdown",
   "metadata": {},
   "source": [
    "### Question 6: 1. Weight Calculation for  Qsi and Qts"
   ]
  },
  {
   "cell_type": "code",
   "execution_count": 34,
   "metadata": {},
   "outputs": [],
   "source": [
    "# generating array of tau with 500 values\n",
    "tau = np.arange(0,0.5,0.001)\n",
    "\n",
    "weights_Qts = []\n",
    "for i in tau:\n",
    "    \n",
    "    #using port function to calculate optimal weights\n",
    "    weight_Qts = port(Rts_annual, Qts , i)  \n",
    "    \n",
    "    #List of optimal weights of each stock for different values of Tau\n",
    "    weights_Qts.append(weight_Qts.T)        \n",
    "ret_Qts = []\n",
    "var_Qts = [] \n",
    "for i in range(len(weights_Qts)):\n",
    "    Rts_annual = Rts_annual.reshape(30,1)\n",
    "    \n",
    "    #calculation of portfolio returns\n",
    "    re_Qts = np.matmul(weights_Qts[i],Rts_annual)                            \n",
    "    ret_Qts.append(re_Qts[0][0])\n",
    "    \n",
    "    #calculation of portfolio variance\n",
    "    va_Qts = np.matmul(np.matmul(weights_Qts[i],Qts),weights_Qts[i].T)      \n",
    "    var_Qts.append(va_Qts[0][0])"
   ]
  },
  {
   "cell_type": "code",
   "execution_count": 26,
   "metadata": {
    "collapsed": true
   },
   "outputs": [],
   "source": [
    "#Data frame conatining portfolio return and variance corresponding\n",
    "# to different values of Tau\n",
    "efficient_frontire_Qts = pd.DataFrame({'Tau': tau, 'Return': ret_Qts, \n",
    "                                       'Variance':var_Qts},\n",
    "                                      columns=['Tau','Return','Variance'])"
   ]
  },
  {
   "cell_type": "code",
   "execution_count": 27,
   "metadata": {},
   "outputs": [
    {
     "data": {
      "text/html": [
       "<div>\n",
       "<style>\n",
       "    .dataframe thead tr:only-child th {\n",
       "        text-align: right;\n",
       "    }\n",
       "\n",
       "    .dataframe thead th {\n",
       "        text-align: left;\n",
       "    }\n",
       "\n",
       "    .dataframe tbody tr th {\n",
       "        vertical-align: top;\n",
       "    }\n",
       "</style>\n",
       "<table border=\"1\" class=\"dataframe\">\n",
       "  <thead>\n",
       "    <tr style=\"text-align: right;\">\n",
       "      <th></th>\n",
       "      <th>Tau</th>\n",
       "      <th>Return</th>\n",
       "      <th>Variance</th>\n",
       "    </tr>\n",
       "  </thead>\n",
       "  <tbody>\n",
       "    <tr>\n",
       "      <th>0</th>\n",
       "      <td>0.000</td>\n",
       "      <td>0.024499</td>\n",
       "      <td>0.017244</td>\n",
       "    </tr>\n",
       "    <tr>\n",
       "      <th>1</th>\n",
       "      <td>0.001</td>\n",
       "      <td>0.035062</td>\n",
       "      <td>0.017255</td>\n",
       "    </tr>\n",
       "    <tr>\n",
       "      <th>2</th>\n",
       "      <td>0.002</td>\n",
       "      <td>0.049184</td>\n",
       "      <td>0.017298</td>\n",
       "    </tr>\n",
       "    <tr>\n",
       "      <th>3</th>\n",
       "      <td>0.003</td>\n",
       "      <td>0.065214</td>\n",
       "      <td>0.017378</td>\n",
       "    </tr>\n",
       "    <tr>\n",
       "      <th>4</th>\n",
       "      <td>0.004</td>\n",
       "      <td>0.081167</td>\n",
       "      <td>0.017490</td>\n",
       "    </tr>\n",
       "  </tbody>\n",
       "</table>\n",
       "</div>"
      ],
      "text/plain": [
       "     Tau    Return  Variance\n",
       "0  0.000  0.024499  0.017244\n",
       "1  0.001  0.035062  0.017255\n",
       "2  0.002  0.049184  0.017298\n",
       "3  0.003  0.065214  0.017378\n",
       "4  0.004  0.081167  0.017490"
      ]
     },
     "execution_count": 27,
     "metadata": {},
     "output_type": "execute_result"
    }
   ],
   "source": [
    "efficient_frontire_Qts.head()"
   ]
  },
  {
   "cell_type": "markdown",
   "metadata": {},
   "source": [
    "### 2. Weight Calculation Based on Qsi calculated  from Single Index Model"
   ]
  },
  {
   "cell_type": "code",
   "execution_count": 28,
   "metadata": {
    "collapsed": true
   },
   "outputs": [],
   "source": [
    "weights_Qsi = []\n",
    "for i in tau:\n",
    "    \n",
    "    #using port function to calculate optimal weights\n",
    "    weight_Qsi = port(ret_predt, Qsi , i)  \n",
    "    \n",
    "    #List of optimal weights of each stock for different values of Tau\n",
    "    weights_Qsi.append(weight_Qsi.T)       \n",
    "ret_Qsi = []\n",
    "var_Qsi = [] \n",
    "for i in range(len(weights_Qsi)):\n",
    "    ret_predt = ret_predt.reshape(30,1)\n",
    "    \n",
    "    #calculation of portfolio returns\n",
    "    re_Qsi = np.matmul(weights_Qsi[i],ret_predt)                        \n",
    "    ret_Qsi.append(re_Qsi[0][0])\n",
    "    \n",
    "    #calculation of portfolio variance\n",
    "    va_Qsi = np.matmul(np.matmul(weights_Qsi[i],Qsi),weights_Qsi[i].T)  \n",
    "    var_Qsi.append(va_Qsi[0][0])"
   ]
  },
  {
   "cell_type": "code",
   "execution_count": 29,
   "metadata": {
    "collapsed": true
   },
   "outputs": [],
   "source": [
    "# Data frame conatining portfolio return and variance corresponding \n",
    "# to different values of Tau\n",
    "efficient_frontire_Qsi = pd.DataFrame({'Tau': tau, 'Return': ret_Qsi, \n",
    "                                       'Variance':var_Qsi}, \n",
    "                                      columns=['Tau','Return','Variance'])"
   ]
  },
  {
   "cell_type": "code",
   "execution_count": 30,
   "metadata": {},
   "outputs": [
    {
     "data": {
      "text/html": [
       "<div>\n",
       "<style>\n",
       "    .dataframe thead tr:only-child th {\n",
       "        text-align: right;\n",
       "    }\n",
       "\n",
       "    .dataframe thead th {\n",
       "        text-align: left;\n",
       "    }\n",
       "\n",
       "    .dataframe tbody tr th {\n",
       "        vertical-align: top;\n",
       "    }\n",
       "</style>\n",
       "<table border=\"1\" class=\"dataframe\">\n",
       "  <thead>\n",
       "    <tr style=\"text-align: right;\">\n",
       "      <th></th>\n",
       "      <th>Tau</th>\n",
       "      <th>Return</th>\n",
       "      <th>Variance</th>\n",
       "    </tr>\n",
       "  </thead>\n",
       "  <tbody>\n",
       "    <tr>\n",
       "      <th>0</th>\n",
       "      <td>0.000</td>\n",
       "      <td>0.036142</td>\n",
       "      <td>0.016923</td>\n",
       "    </tr>\n",
       "    <tr>\n",
       "      <th>1</th>\n",
       "      <td>0.001</td>\n",
       "      <td>0.045141</td>\n",
       "      <td>0.016932</td>\n",
       "    </tr>\n",
       "    <tr>\n",
       "      <th>2</th>\n",
       "      <td>0.002</td>\n",
       "      <td>0.054110</td>\n",
       "      <td>0.016959</td>\n",
       "    </tr>\n",
       "    <tr>\n",
       "      <th>3</th>\n",
       "      <td>0.003</td>\n",
       "      <td>0.063198</td>\n",
       "      <td>0.017005</td>\n",
       "    </tr>\n",
       "    <tr>\n",
       "      <th>4</th>\n",
       "      <td>0.004</td>\n",
       "      <td>0.076747</td>\n",
       "      <td>0.017100</td>\n",
       "    </tr>\n",
       "  </tbody>\n",
       "</table>\n",
       "</div>"
      ],
      "text/plain": [
       "     Tau    Return  Variance\n",
       "0  0.000  0.036142  0.016923\n",
       "1  0.001  0.045141  0.016932\n",
       "2  0.002  0.054110  0.016959\n",
       "3  0.003  0.063198  0.017005\n",
       "4  0.004  0.076747  0.017100"
      ]
     },
     "execution_count": 30,
     "metadata": {},
     "output_type": "execute_result"
    }
   ],
   "source": [
    "efficient_frontire_Qsi.head()"
   ]
  },
  {
   "cell_type": "markdown",
   "metadata": {},
   "source": [
    "### 3. Plot the efficient frontier using the time-series approximation to Qts in blue, and superimpose the efficient frontier computed with the single index covariance model Qsi in red."
   ]
  },
  {
   "cell_type": "code",
   "execution_count": 31,
   "metadata": {},
   "outputs": [
    {
     "data": {
      "image/png": "[encoded data removed]",
      "text/plain": [
       "<matplotlib.figure.Figure at 0x19bcb6e1e80>"
      ]
     },
     "metadata": {},
     "output_type": "display_data"
    }
   ],
   "source": [
    "# Plot of Qts and Qsi Efficient Frontiers\n",
    "plt.plot(efficient_frontire_Qts['Variance'],efficient_frontire_Qts['Return'],'b', \n",
    "         label = 'Efficient Frontier Qts')\n",
    "\n",
    "plt.plot(efficient_frontire_Qsi['Variance'],efficient_frontire_Qsi['Return'],'r', \n",
    "         label = 'Efficient Frontier Qsi')\n",
    "\n",
    "plt.title('Efficient Frontire')\n",
    "plt.xlabel('Variance')\n",
    "plt.ylabel('Return')\n",
    "plt.legend(loc = 4)\n",
    "plt.show()"
   ]
  },
  {
   "cell_type": "markdown",
   "metadata": {
    "collapsed": true
   },
   "source": [
    "### Do you think the results are similar enough that the single-index covariance model is valid?"
   ]
  },
  {
   "cell_type": "markdown",
   "metadata": {
    "collapsed": true
   },
   "source": [
    "##### Yes, I think results are similar enough that the single-index covariance model is valid. This is clear from the graphs of efficient frontiers above for Qts i.e. covariance matrix using return data from market and Qsi i.e. covariance matrix using data generated  using single-index factor model. "
   ]
  },
  {
   "cell_type": "code",
   "execution_count": null,
   "metadata": {
    "collapsed": true
   },
   "outputs": [],
   "source": []
  },
  {
   "cell_type": "code",
   "execution_count": null,
   "metadata": {
    "collapsed": true
   },
   "outputs": [],
   "source": []
  }
 ],
 "metadata": {
  "kernelspec": {
   "display_name": "Python 3",
   "language": "python",
   "name": "python3"
  },
  "language_info": {
   "codemirror_mode": {
    "name": "ipython",
    "version": 3
   },
   "file_extension": ".py",
   "mimetype": "text/x-python",
   "name": "python",
   "nbconvert_exporter": "python",
   "pygments_lexer": "ipython3",
   "version": "3.6.3"
  }
 },
 "nbformat": 4,
 "nbformat_minor": 2
}
