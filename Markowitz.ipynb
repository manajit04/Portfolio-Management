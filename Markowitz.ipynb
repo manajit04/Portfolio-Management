{
 "cells": [
  {
   "cell_type": "code",
   "execution_count": 105,
   "metadata": {},
   "outputs": [
    {
     "data": {
      "text/plain": [
       "0.015000000001184052"
      ]
     },
     "execution_count": 105,
     "metadata": {},
     "output_type": "execute_result"
    }
   ],
   "source": [
    "import numpy as np\n",
    "from scipy.optimize import minimize\n",
    "import matplotlib.pyplot as plt\n",
    "from matplotlib import style\n",
    "style.use('fivethirtyeight')\n",
    "cov = np.array([[0.010, 0.002, 0.001], [0.002, 0.011, 0.003], [0.001, 0.003, 0.020]])\n",
    "r = np.array([0.0427,0.0015, 0.0285])\n",
    "ass_var = np.array([0.010, 0.011, 0.020])\n",
    "\n",
    "def var(z):\n",
    "    w1 = z[0]\n",
    "    w2 = z[1]\n",
    "    w3 = z[2]\n",
    "    \n",
    "    w = np.array([w1, w2, w3])\n",
    "    f = np.zeros(1)\n",
    "    f[0] = np.matmul(np.matmul(w,cov),w.T)\n",
    "    return f\n",
    "\n",
    "def constr1(z):\n",
    "    w1 = z[0]\n",
    "    w2 = z[1]\n",
    "    w3 = z[2]\n",
    "    \n",
    "    w = np.array([w1, w2, w3])\n",
    "    ret = np.matmul(w,r.T)\n",
    "    t = (r[1] + r[2]) / 2   \n",
    "    f = np.zeros(2)\n",
    "    f[0] = w1 + w2 + w3 -1\n",
    "    f[1] = ret - t\n",
    "    return f\n",
    "cons1 = {'type' : 'eq', 'fun': constr1}\n",
    "P1 = minimize(var, (1, 0, 1), method='SLSQP',constraints = cons1)\n",
    "P1_var = P1.fun\n",
    "P1_ret = np.matmul(P1.x,r.T)  \n",
    "P1_ret\n",
    "#P1"
   ]
  },
  {
   "cell_type": "code",
   "execution_count": 100,
   "metadata": {},
   "outputs": [
    {
     "data": {
      "text/plain": [
       "0.042700000035385828"
      ]
     },
     "execution_count": 100,
     "metadata": {},
     "output_type": "execute_result"
    }
   ],
   "source": [
    "import numpy as np\n",
    "from scipy.optimize import minimize\n",
    "\n",
    "cov = np.array([[0.010, 0.002, 0.001], [0.002, 0.011, 0.003], [0.001, 0.003, 0.020]])\n",
    "r = np.array([0.0427,0.0015, 0.0285])\n",
    "\n",
    "def var(z):\n",
    "    w1 = z[0]\n",
    "    w2 = z[1]\n",
    "    w3 = z[2]\n",
    "    \n",
    "    w = np.array([w1, w2, w3])\n",
    "    f = np.zeros(1)\n",
    "    f[0] = np.matmul(np.matmul(w,cov),w.T)\n",
    "    return f\n",
    "\n",
    "def constr(z):\n",
    "    w1 = z[0]\n",
    "    w2 = z[1]\n",
    "    w3 = z[2]\n",
    "    \n",
    "    w = np.array([w1, w2, w3])\n",
    "    ret = np.matmul(w,r.T)\n",
    "    t = r[0]   \n",
    "    f = np.zeros(2)\n",
    "    f[0] = w1 + w2 + w3 -1\n",
    "    f[1] = ret - t\n",
    "    return f\n",
    "cons = {'type' : 'eq', 'fun': constr}\n",
    "P2 = minimize(var, (1, 0, 1), method='SLSQP',constraints = cons)\n",
    "P2_var = P2.fun\n",
    "P2_ret = np.matmul(P2.x,r.T)\n",
    "P2_ret\n",
    "#P2"
   ]
  },
  {
   "cell_type": "code",
   "execution_count": 123,
   "metadata": {},
   "outputs": [],
   "source": [
    "import numpy as np\n",
    "from scipy.optimize import minimize\n",
    "\n",
    "cov = np.array([[0.010, 0.002, 0.001], [0.002, 0.011, 0.003], [0.001, 0.003, 0.020]])\n",
    "r = np.array([0.0427,0.0015, 0.0285])\n",
    "\n",
    "def var(z):\n",
    "    w1 = z[0]\n",
    "    w2 = z[1]\n",
    "    w3 = z[2]\n",
    "    \n",
    "    w = np.array([w1, w2, w3])\n",
    "    f = np.zeros(1)\n",
    "    f[0] = np.matmul(np.matmul(w,cov),w.T)\n",
    "    return f\n",
    "\n",
    "def constr(z):\n",
    "    w1 = z[0]\n",
    "    w2 = z[1]\n",
    "    w3 = z[2]\n",
    "    \n",
    "    w = np.array([w1, w2, w3])   \n",
    "    f = np.zeros(1)\n",
    "    f[0] = w1 + w2 + w3 -1\n",
    "    return f\n",
    "\n",
    "cons = {'type' : 'eq', 'fun': constr}\n",
    "gmin = minimize(var, (1, 0, 1), method='SLSQP',constraints = cons)\n",
    "gminvar_var = gmin.fun\n",
    "gminvar_ret = np.matmul(gmin.x,r.T)\n"
   ]
  },
  {
   "cell_type": "code",
   "execution_count": 159,
   "metadata": {},
   "outputs": [
    {
     "data": {
      "image/png": "[encoded data removed]",
      "text/plain": [
       "<matplotlib.figure.Figure at 0x267b39ea908>"
      ]
     },
     "metadata": {},
     "output_type": "display_data"
    }
   ],
   "source": [
    "a=np.linspace(-2 , 1, num = 31)\n",
    "b = 1-a\n",
    "weight = np.array([a, b])\n",
    "fund_r = np.array([P1_ret, P2_ret])\n",
    "fund_v = np.array([[P1_var, 0],[0, P2_var]])\n",
    "eff_ret = list()\n",
    "#wei = np.array([a[2],b[2]])\n",
    "eff_var = list()\n",
    "#np.matmul(wei.T,fund_r)\n",
    "\n",
    "for i in range(0,len(a)):\n",
    "    wei = np.array([a[i],b[i]])\n",
    "    fund_ret = np.matmul(wei,fund_r.T)\n",
    "    eff_ret.append(fund_ret)\n",
    "    fund_var = np.matmul(np.matmul(wei,fund_v.T),wei.T)\n",
    "    eff_var.append(fund_var)\n",
    " \n",
    "rf = 0.005\n",
    "sharp = ((np.array(eff_ret)-rf)/np.array(eff_var))\n",
    "pos, =np.where(sharp == max(sharp))\n",
    "vectvar = (eff_var[pos[0]],0)\n",
    "vectret = (eff_ret[pos[0]], rf)\n",
    "\n",
    "def tang(t):\n",
    "    y = max(sharp) * t + rf\n",
    "    return y \n",
    "\n",
    "t = np.linspace(0 , 0.015, num = 10)\n",
    "\n",
    "\n",
    "plt.plot(eff_var[pos[0]],eff_ret[pos[0]],'go',label = 'Tangency')\n",
    "plt.plot(gminvar_var,gminvar_ret,'ro', label='Global Minimum')\n",
    "plt.plot(ass_var,r,'o', label='Individual Assets')\n",
    "plt.plot(P1_var,P1_ret, 'co',label='Portfolio P1')\n",
    "plt.plot(P2_var,P2_ret, 'bo',label='Portfolio P2')\n",
    "plt.plot(eff_var,eff_ret,label = 'Efficient Frontier', linewidth = 2)\n",
    "plt.plot(t,tang(t),label = 'Tangent', linewidth = 2)\n",
    "plt.xlabel('Variance')\n",
    "plt.ylabel('Return')\n",
    "plt.legend()\n",
    "plt.title('Efficient Frontier')\n",
    "plt.show()"
   ]
  },
  {
   "cell_type": "code",
   "execution_count": null,
   "metadata": {
    "collapsed": true
   },
   "outputs": [],
   "source": []
  },
  {
   "cell_type": "code",
   "execution_count": null,
   "metadata": {
    "collapsed": true
   },
   "outputs": [],
   "source": []
  }
 ],
 "metadata": {
  "kernelspec": {
   "display_name": "Python 3",
   "language": "python",
   "name": "python3"
  },
  "language_info": {
   "codemirror_mode": {
    "name": "ipython",
    "version": 3
   },
   "file_extension": ".py",
   "mimetype": "text/x-python",
   "name": "python",
   "nbconvert_exporter": "python",
   "pygments_lexer": "ipython3",
   "version": "3.6.3"
  }
 },
 "nbformat": 4,
 "nbformat_minor": 2
}
